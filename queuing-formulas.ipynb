{
 "cells": [
  {
   "attachments": {},
   "cell_type": "markdown",
   "metadata": {},
   "source": [
    "# Queuing and Performance Analysis\n",
    "\n",
    "## Notation\n",
    "| Symbol | Meaning | Relationships |\n",
    "|---|---|---|\n",
    "| $\\lambda$ | Arrival Rate | - |\n",
    "| $\\tau_a$ | Mean Inter-arrival Time | $\\tau_a=1/\\lambda$ |\n",
    "| $\\sigma_a$ | Standard deviation of inter-arrival times | - |\n",
    "| $c_a$ | Coefficient of Variation of inter-arrival times | $c_a = \\tau_a/\\sigma_a$ |\n",
    "| $\\mu$ | Processing Rate | - |\n",
    "| $\\tau_s$ | Mean Processing Time | $\\tau_s=1/\\mu$ |\n",
    "| $\\sigma_s$ | Standard deviation of processing times | - | \n",
    "| $c_s$ | Coefficient of Variation of inter-arrival times | $c_s = \\tau_s/\\sigma_s$ |\n",
    "| $L$ | Mean number of jobs in system | - |\n",
    "| $W_q$ | Mean time spent queueing by job | - |\n",
    "| $W$ | Sojourn time, time spent in system by job | $W = W_q + \\tau_s$ |\n",
    "| $\\rho$ | Utilization | $\\rho = \\lambda / \\mu = \\tau_s / \\tau_a$ |\n",
    "| $QF$ | Queuing Factor | $QF = W / \\tau = 1 + W_q / \\tau$ |\n",
    "| $E[w]$ | Expectation of random variable $w$ | - |\n",
    "\n",
    "## Key Equations\n",
    "\n",
    "| Equation | Formula | Notes |\n",
    "|---|---|---|\n",
    "| Little's Law | $L = \\lambda W$ | - |\n",
    "| M/M/1 Wait Time | $E[W_q] = \\tau_s \\frac{\\rho}{1-\\rho}$ | [Wikipedia](https://en.wikipedia.org/wiki/M/M/1_queue) |\n",
    "| M/M/1 Sojourn Time | $E[W] = \\tau_s \\frac{1}{1-\\rho}$ | [Wikipedia](https://en.wikipedia.org/wiki/M/M/1_queue) |\n",
    "| G/G/1 Wait Time | $E[W_q] \\approx \\tau_s \\left( \\frac{\\rho}{1-\\rho} \\right) \\left( \\frac{c_a^2+c_s^2}{2}\\right)$ | [Wikipedia](https://en.wikipedia.org/wiki/G/G/1_queue) |\n",
    "| G/G/1 Sojourn Time | $E[W_q] \\approx \\tau_s + \\tau_s \\left( \\frac{\\rho}{1-\\rho} \\right) \\left( \\frac{c_a^2+c_s^2}{2}\\right)$ | [Wikipedia](https://en.wikipedia.org/wiki/G/G/1_queue) |\n",
    "\n",
    "# Jupyter Help\n",
    "\n",
    "* [Symbolic Math](https://dynamics-and-control.readthedocs.io/en/latest/0_Getting_Started/Notebook%20introduction.html)\n",
    "* [Latex Math](https://tilburgsciencehub.com/building-blocks/collaborate-and-share-your-work/write-your-paper/amsmath-latex-cheatsheet/)\n",
    "* [More Latex Match Cheatsheet](https://kapeli.com/cheat_sheets/LaTeX_Math_Symbols.docset/Contents/Resources/Documents/index)\n",
    "\n"
   ]
  },
  {
   "cell_type": "code",
   "execution_count": 1,
   "metadata": {},
   "outputs": [],
   "source": [
    "import sympy\n",
    "\n",
    "sympy.init_printing()\n",
    "\n"
   ]
  },
  {
   "cell_type": "code",
   "execution_count": 2,
   "metadata": {},
   "outputs": [
    {
     "data": {
      "image/png": "[encoded data removed]",
      "text/latex": [
       "$\\displaystyle 16 x^{4} + 96 x^{3} + 216 x^{2} + 216 x + 81$"
      ],
      "text/plain": [
       "    4       3        2             \n",
       "16⋅x  + 96⋅x  + 216⋅x  + 216⋅x + 81"
      ]
     },
     "execution_count": 2,
     "metadata": {},
     "output_type": "execute_result"
    }
   ],
   "source": [
    "x = sympy.Symbol('x')\n",
    "polynomial = (2*x + 3)**4\n",
    "polynomial.expand()\n"
   ]
  },
  {
   "cell_type": "markdown",
   "metadata": {},
   "source": [
    "# Symbolic Representation"
   ]
  },
  {
   "cell_type": "code",
   "execution_count": 25,
   "metadata": {},
   "outputs": [
    {
     "data": {
      "image/png": "[encoded data removed]",
      "text/latex": [
       "$\\displaystyle \\left[ \\mu, \\  \\lambda, \\  \\tau_{s}, \\  \\tau_{a}, \\  c_{s}, \\  c_{a}, \\  W, \\  W_{q}, \\  L, \\  \\frac{\\lambda}{\\mu}, \\  QF\\right]$"
      ],
      "text/plain": [
       "⎡                                 λ    ⎤\n",
       "⎢μ, λ, τₛ, τₐ, cₛ, cₐ, W, W_q, L, ─, QF⎥\n",
       "⎣                                 μ    ⎦"
      ]
     },
     "execution_count": 25,
     "metadata": {},
     "output_type": "execute_result"
    }
   ],
   "source": [
    "## Symbol Declararions\n",
    "tau_s = sympy.Symbol('tau_s')\n",
    "tau_a = sympy.Symbol('tau_a')\n",
    "c_s = sympy.Symbol('c_s')\n",
    "c_a = sympy.Symbol('c_a')\n",
    "\n",
    "mu = sympy.Symbol('mu')\n",
    "s_lambda = sympy.Symbol('lambda')\n",
    "#rho = sympy.Symbol('rho')\n",
    "rho = s_lambda/mu\n",
    "\n",
    "W = sympy.Symbol('W')\n",
    "W_q = sympy.Symbol('W_q')\n",
    "L = sympy.Symbol('L')\n",
    "QF = sympy.Symbol('QF')\n",
    "\n",
    "[mu, s_lambda, tau_s, tau_a, c_s, c_a, W, W_q, L, rho, QF]"
   ]
  },
  {
   "cell_type": "code",
   "execution_count": 4,
   "metadata": {},
   "outputs": [
    {
     "data": {
      "image/png": "[encoded data removed]",
      "text/latex": [
       "$\\displaystyle \\left[ \\rho = \\frac{\\tau_{s}}{\\tau_{a}}, \\  \\lambda = \\frac{1}{\\tau_{a}}, \\  \\mu = \\frac{1}{\\tau_{s}}\\right]$"
      ],
      "text/plain": [
       "⎡    τₛ      1       1 ⎤\n",
       "⎢ρ = ──, λ = ──, μ = ──⎥\n",
       "⎣    τₐ      τₐ      τₛ⎦"
      ]
     },
     "execution_count": 4,
     "metadata": {},
     "output_type": "execute_result"
    }
   ],
   "source": [
    "## Basic Relationships\n",
    "utilization = sympy.Eq(rho, tau_s / tau_a)\n",
    "arrival_rate = sympy.Eq(s_lambda, 1 / tau_a)\n",
    "processing_rate = sympy.Eq(mu, 1 / tau_s)\n",
    "\n",
    "[utilization, arrival_rate, processing_rate]\n"
   ]
  },
  {
   "cell_type": "code",
   "execution_count": 5,
   "metadata": {},
   "outputs": [
    {
     "data": {
      "image/png": "[encoded data removed]",
      "text/latex": [
       "$\\displaystyle \\left[ \\frac{\\rho \\tau_{s} \\left(c_{a}^{2} + c_{s}^{2}\\right)}{2 \\cdot \\left(1 - \\rho\\right)} + \\tau_{s}, \\  \\frac{\\rho \\left(c_{a}^{2} + c_{s}^{2}\\right)}{2 \\cdot \\left(1 - \\rho\\right)}, \\  - \\frac{\\tau_{s}}{\\rho - 1}, \\  - \\frac{\\rho}{\\rho - 1}\\right]$"
      ],
      "text/plain": [
       "⎡     ⎛  2     2⎞         ⎛  2     2⎞              ⎤\n",
       "⎢ρ⋅τₛ⋅⎝cₐ  + cₛ ⎠       ρ⋅⎝cₐ  + cₛ ⎠   -τₛ    -ρ  ⎥\n",
       "⎢──────────────── + τₛ, ─────────────, ─────, ─────⎥\n",
       "⎣   2⋅(1 - ρ)             2⋅(1 - ρ)    ρ - 1  ρ - 1⎦"
      ]
     },
     "execution_count": 5,
     "metadata": {},
     "output_type": "execute_result"
    }
   ],
   "source": [
    "\"\"\"\n",
    "## MM1 & GG1\n",
    "\"\"\"\n",
    "W_gg1 = tau_s + tau_s * (rho/(1-rho)) * (c_a**2+c_s**2) / 2\n",
    "QF_gg1 = (W_gg1 - tau_s)/tau_s\n",
    "W_mm1 = sympy.simplify(W_gg1.subs([(c_a, 1.0), (c_s, 1.0)]))\n",
    "QF_mm1 = sympy.simplify((W_mm1-tau_s)/tau_s)\n",
    "\n",
    "[W_gg1, QF_gg1, W_mm1, QF_mm1]\n"
   ]
  },
  {
   "cell_type": "code",
   "execution_count": 27,
   "metadata": {},
   "outputs": [
    {
     "data": {
      "image/png": "[encoded data removed]",
      "text/latex": [
       "$\\displaystyle \\left[ \\frac{\\lambda}{c \\mu}, \\  \\rho_{c} = \\frac{\\rho}{c}, \\  \\frac{1}{1 + \\left(\\frac{\\lambda}{\\mu}\\right)^{- c} \\left(1 - \\frac{\\lambda}{c \\mu}\\right) c! \\sum_{k=0}^{c - 1} \\frac{\\left(\\frac{\\lambda}{\\mu}\\right)^{k}}{k!}}, \\  \\frac{\\lambda}{\\mu} + \\frac{\\lambda}{c \\mu \\left(1 - \\frac{\\lambda}{c \\mu}\\right) \\left(1 + \\left(\\frac{\\lambda}{\\mu}\\right)^{- c} \\left(1 - \\frac{\\lambda}{c \\mu}\\right) c! \\sum_{k=0}^{c - 1} \\frac{\\left(\\frac{\\lambda}{\\mu}\\right)^{k}}{k!}\\right)}, \\  \\frac{1}{\\left(1 + \\left(\\frac{\\lambda}{\\mu}\\right)^{- c} \\left(1 - \\frac{\\lambda}{c \\mu}\\right) c! \\sum_{k=0}^{c - 1} \\frac{\\left(\\frac{\\lambda}{\\mu}\\right)^{k}}{k!}\\right) \\left(c \\mu - \\lambda\\right)} + \\frac{1}{\\mu}\\right]$"
      ],
      "text/plain": [
       "⎡ λ            ρ                  1                  λ                        \n",
       "⎢───, \\rho_c = ─, ─────────────────────────────────, ─ + ─────────────────────\n",
       "⎢c⋅μ           c                         c - 1       μ                 ⎛      \n",
       "⎢                                        _____                         ⎜      \n",
       "⎢                                        ╲                             ⎜      \n",
       "⎢                                         ╲       k                    ⎜      \n",
       "⎢                        -c                ╲   ⎛λ⎞                     ⎜      \n",
       "⎢                     ⎛λ⎞   ⎛     λ ⎞       ╲  ⎜─⎟           ⎛     λ ⎞ ⎜    ⎛λ\n",
       "⎢                 1 + ⎜─⎟  ⋅⎜1 - ───⎟⋅c!⋅   ╱  ⎝μ⎠       c⋅μ⋅⎜1 - ───⎟⋅⎜1 + ⎜─\n",
       "⎢                     ⎝μ⎠   ⎝    c⋅μ⎠      ╱   ────          ⎝    c⋅μ⎠ ⎜    ⎝μ\n",
       "⎢                                         ╱     k!                     ⎜      \n",
       "⎢                                        ╱                             ⎜      \n",
       "⎢                                        ‾‾‾‾‾                         ⎜      \n",
       "⎣                                        k = 0                         ⎝      \n",
       "\n",
       "   λ                                                1                         \n",
       "────────────────────────────, ───────────────────────────────────────────── + \n",
       "                 c - 1     ⎞  ⎛                       c - 1     ⎞             \n",
       "                 _____     ⎟  ⎜                       _____     ⎟             \n",
       "                 ╲         ⎟  ⎜                       ╲         ⎟             \n",
       "                  ╲       k⎟  ⎜                        ╲       k⎟             \n",
       " -c                ╲   ⎛λ⎞ ⎟  ⎜       -c                ╲   ⎛λ⎞ ⎟             \n",
       "⎞   ⎛     λ ⎞       ╲  ⎜─⎟ ⎟  ⎜    ⎛λ⎞   ⎛     λ ⎞       ╲  ⎜─⎟ ⎟             \n",
       "⎟  ⋅⎜1 - ───⎟⋅c!⋅   ╱  ⎝μ⎠ ⎟  ⎜1 + ⎜─⎟  ⋅⎜1 - ───⎟⋅c!⋅   ╱  ⎝μ⎠ ⎟⋅(c⋅μ - λ)   \n",
       "⎠   ⎝    c⋅μ⎠      ╱   ────⎟  ⎜    ⎝μ⎠   ⎝    c⋅μ⎠      ╱   ────⎟             \n",
       "                  ╱     k! ⎟  ⎜                        ╱     k! ⎟             \n",
       "                 ╱         ⎟  ⎜                       ╱         ⎟             \n",
       "                 ‾‾‾‾‾     ⎟  ⎜                       ‾‾‾‾‾     ⎟             \n",
       "                 k = 0     ⎠  ⎝                       k = 0     ⎠             \n",
       "\n",
       "1⎤\n",
       "─⎥\n",
       "μ⎥\n",
       " ⎥\n",
       " ⎥\n",
       " ⎥\n",
       " ⎥\n",
       " ⎥\n",
       " ⎥\n",
       " ⎥\n",
       " ⎥\n",
       " ⎥\n",
       " ⎥\n",
       " ⎦"
      ]
     },
     "execution_count": 27,
     "metadata": {},
     "output_type": "execute_result"
    }
   ],
   "source": [
    "\"\"\"\n",
    "## M/M/c\n",
    "\"\"\"\n",
    "c = sympy.Symbol('c')\n",
    "#rho_c = sympy.Symbol('\\\\rho_c')\n",
    "rho_c = rho/c\n",
    "\n",
    "#utilization_c = sympy.Eq(rho_c, rho/c)\n",
    "\n",
    "k = sympy.Symbol('k')\n",
    "\n",
    "erlangC = 1/(1 + (1-rho_c)*(sympy.factorial(c)/(c*rho_c)**c)*sympy.Sum((c*rho_c)**k/sympy.factorial(k), (k, 0, c -1)))\n",
    "\n",
    "L_c = (rho_c/(1-rho_c))*erlangC+c*rho_c\n",
    "\n",
    "W_c = erlangC/(c*mu - s_lambda)+ 1/mu\n",
    "\n",
    "[\n",
    "    rho_c,\n",
    "    utilization_c,\n",
    "    erlangC,\n",
    "    L_c,\n",
    "    W_c\n",
    "]\n"
   ]
  },
  {
   "cell_type": "code",
   "execution_count": 28,
   "metadata": {},
   "outputs": [
    {
     "data": {
      "image/png": "[encoded data removed]",
      "text/latex": [
       "$\\displaystyle - \\frac{1}{\\left(1 - \\frac{\\mu \\left(\\frac{\\lambda}{\\mu} - 1\\right)}{\\lambda}\\right) \\left(\\lambda - \\mu\\right)} + \\frac{1}{\\mu}$"
      ],
      "text/plain": [
       "             1              1\n",
       "- ─────────────────────── + ─\n",
       "  ⎛      ⎛λ    ⎞⎞           μ\n",
       "  ⎜    μ⋅⎜─ - 1⎟⎟            \n",
       "  ⎜      ⎝μ    ⎠⎟            \n",
       "  ⎜1 - ─────────⎟⋅(λ - μ)    \n",
       "  ⎝        λ    ⎠            "
      ]
     },
     "execution_count": 28,
     "metadata": {},
     "output_type": "execute_result"
    }
   ],
   "source": [
    "sympy.simplify(W_c.subs([(c, 1)]))"
   ]
  },
  {
   "attachments": {},
   "cell_type": "markdown",
   "metadata": {},
   "source": [
    "# Numerical Examples and Graphs"
   ]
  }
 ],
 "metadata": {
  "kernelspec": {
   "display_name": ".jupyter-venv",
   "language": "python",
   "name": "python3"
  },
  "language_info": {
   "codemirror_mode": {
    "name": "ipython",
    "version": 3
   },
   "file_extension": ".py",
   "mimetype": "text/x-python",
   "name": "python",
   "nbconvert_exporter": "python",
   "pygments_lexer": "ipython3",
   "version": "3.11.3"
  },
  "orig_nbformat": 4
 },
 "nbformat": 4,
 "nbformat_minor": 2
}
